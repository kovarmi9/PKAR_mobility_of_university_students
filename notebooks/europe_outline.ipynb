{
 "cells": [
  {
   "cell_type": "code",
   "execution_count": 3,
   "id": "dbcdec9c-8c83-45ee-bcf8-3e8d2d2df6e8",
   "metadata": {},
   "outputs": [],
   "source": [
    "import geopandas as gpd\n",
    "from shapely.geometry import MultiPolygon\n",
    "\n",
    "# Load data\n",
    "gdf = gpd.read_file('../data/europe/CNTR_RG_01M_2024_3035.gpkg')\n",
    "\n",
    "european_countries = {\n",
    "    'Albania', 'Andorra', 'Armenia', 'Austria', 'Azerbaijan', 'Belarus', 'Belgium',\n",
    "    'Bosnia and Herzegovina', 'Bulgaria', 'Croatia', 'Cyprus', 'Czechia', 'Denmark',\n",
    "    'Estonia', 'Finland', 'France', 'Georgia', 'Germany', 'Greece', 'Hungary',\n",
    "    'Iceland', 'Ireland', 'Italy', 'Kazakhstan', 'Kosovo', 'Latvia', 'Liechtenstein',\n",
    "    'Lithuania', 'Luxembourg', 'Malta', 'Moldova', 'Monaco', 'Montenegro',\n",
    "    'Netherlands', 'North Macedonia', 'Norway', 'Poland', 'Portugal', 'Romania',\n",
    "    'Russian Federation', 'San Marino', 'Serbia', 'Slovakia', 'Slovenia',\n",
    "    'Spain', 'Sweden', 'Switzerland', 'Türkiye', 'Ukraine', 'United Kingdom',\n",
    "    'Vatican City'\n",
    "}\n",
    "\n",
    "# Filter only European countries\n",
    "gdf = gdf[gdf['NAME_ENGL'].isin(european_countries)]\n",
    "\n",
    "# Union all geometries into one\n",
    "europe_outline = gdf.geometry.union_all()\n",
    "\n",
    "# Remove small polygons\n",
    "min_area = 1e9  # Adjust threshold as needed (e.g. ~1000 km²)\n",
    "if europe_outline.geom_type == 'MultiPolygon':\n",
    "    filtered = MultiPolygon([p for p in europe_outline.geoms if p.area > min_area])\n",
    "else:\n",
    "    filtered = europe_outline\n",
    "\n",
    "# Simplify geometry\n",
    "simplified = filtered.simplify(tolerance=10000)\n",
    "\n",
    "# Export to GPKG\n",
    "gdf_outline = gpd.GeoDataFrame(geometry=[simplified], crs=gdf.crs)\n",
    "gdf_outline.to_file('../data/europe/europe_outline.gpkg', driver='GPKG')\n"
   ]
  },
  {
   "cell_type": "code",
   "execution_count": null,
   "id": "1f96e5c5-084d-4f42-9c5b-572478ac386b",
   "metadata": {},
   "outputs": [],
   "source": []
  }
 ],
 "metadata": {
  "kernelspec": {
   "display_name": "Python 3 (ipykernel)",
   "language": "python",
   "name": "python3"
  },
  "language_info": {
   "codemirror_mode": {
    "name": "ipython",
    "version": 3
   },
   "file_extension": ".py",
   "mimetype": "text/x-python",
   "name": "python",
   "nbconvert_exporter": "python",
   "pygments_lexer": "ipython3",
   "version": "3.12.10"
  }
 },
 "nbformat": 4,
 "nbformat_minor": 5
}
