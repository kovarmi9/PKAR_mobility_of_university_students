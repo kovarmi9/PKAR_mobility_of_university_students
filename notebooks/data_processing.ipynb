{
 "cells": [
  {
   "cell_type": "markdown",
   "id": "b2a4fe2b-624e-43a6-8ea7-4c0392884484",
   "metadata": {},
   "source": [
    "# Load Excel Data"
   ]
  },
  {
   "cell_type": "code",
   "execution_count": 1,
   "id": "be58d629-3ffc-4cbd-8730-7808481c71c0",
   "metadata": {},
   "outputs": [],
   "source": [
    "import pandas as pd\n",
    "\n",
    "# Define the URL of the Excel file\n",
    "url = \"https://dsia.msmt.cz/vystupy/f2/f25.xlsx\"\n",
    "\n",
    "# Load the \"2023\" sheet using the 6th row as header,\n",
    "# and skip rows 7-10\n",
    "df = pd.read_excel(url, sheet_name='2023', header=5, skiprows=range(6, 10))"
   ]
  },
  {
   "cell_type": "code",
   "execution_count": 2,
   "id": "07762b93-ad94-493a-9f4d-4d7ee6580ecc",
   "metadata": {},
   "outputs": [],
   "source": [
    "# Define the indices of columns to drop: first column and columns with index 3, 4, 5, 6, 7\n",
    "cols_to_drop = [0, 2, 3, 4, 5, 6, 7]\n",
    "\n",
    "# Drop the unwanted columns\n",
    "df = df.drop(df.columns[cols_to_drop], axis=1)\n",
    "\n",
    "# Rename the first column to \"kód\"\n",
    "df.columns.values[0] = \"kód\"\n",
    "\n",
    "# Remove the last four columns from the DataFrame\n",
    "df = df.iloc[:, :-4]"
   ]
  },
  {
   "cell_type": "code",
   "execution_count": 3,
   "id": "161eeb3e-d208-43b9-adad-ce90583df818",
   "metadata": {},
   "outputs": [],
   "source": [
    "import json\n",
    "\n",
    "# Open the JSON file containing the faculty-to-region mapping\n",
    "with open('../data/czech/faculty_to_region.json', 'r', encoding='utf-8') as file:\n",
    "    faculty_to_region = json.load(file)\n",
    "\n",
    "# Add a new column \"region\" by mapping the \"kód\" column using the faculty_to_region dictionary\n",
    "df['University ↓ / Student →'] = df['kód'].map(faculty_to_region)"
   ]
  },
  {
   "cell_type": "code",
   "execution_count": 4,
   "id": "92ffd0aa-6639-4bc6-b842-456e345661c6",
   "metadata": {},
   "outputs": [],
   "source": [
    "# Remove columns that are not needed\n",
    "df = df.drop(columns=[\"kód\"])\n",
    "\n",
    "# Remove rows that contain aggregated university data when faculty-level data is available, to avoid duplicate sums\n",
    "df = df.drop(index=[0, 18, 27, 36, 47, 56, 59, 66, 72, 77, 87, 93, 103, 112, 120, 129, 138, 146, 153, 161, 168, 174]).reset_index(drop=True)\n",
    "\n",
    "# Group rows by 'místo' and sum the student counts for each region\n",
    "df = df.groupby('University ↓ / Student →').sum()\n",
    "\n",
    "# Remove rows where the \"University ↓ / Student →\" column equals \"různé kraje\"\n",
    "df = df[df.index != \"různé kraje\"]"
   ]
  },
  {
   "cell_type": "code",
   "execution_count": 5,
   "id": "2d7b0beb-281f-42f5-b9e5-2343f2f93406",
   "metadata": {},
   "outputs": [
    {
     "name": "stdout",
     "output_type": "stream",
     "text": [
      "Data was successfully exported to '../data/czech/data_czech.xlsx'.\n"
     ]
    }
   ],
   "source": [
    "# Save the result to a new Excel file\n",
    "df.to_excel('../data/czech/data_czech.xlsx', sheet_name='List1')\n",
    "\n",
    "print(\"Data was successfully exported to '../data/czech/data_czech.xlsx'.\")"
   ]
  }
 ],
 "metadata": {
  "kernelspec": {
   "display_name": "Python 3 (ipykernel)",
   "language": "python",
   "name": "python3"
  },
  "language_info": {
   "codemirror_mode": {
    "name": "ipython",
    "version": 3
   },
   "file_extension": ".py",
   "mimetype": "text/x-python",
   "name": "python",
   "nbconvert_exporter": "python",
   "pygments_lexer": "ipython3",
   "version": "3.9.5"
  }
 },
 "nbformat": 4,
 "nbformat_minor": 5
}
