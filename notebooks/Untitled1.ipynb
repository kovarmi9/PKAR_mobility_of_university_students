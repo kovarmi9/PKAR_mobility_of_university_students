{
 "cells": [
  {
   "cell_type": "code",
   "execution_count": 1,
   "id": "f3d1692b-a0e4-4f36-a0cc-0e6d8b3bf4dc",
   "metadata": {},
   "outputs": [
    {
     "name": "stdout",
     "output_type": "stream",
     "text": [
      "✅ Hotovo! Výstup uložen do: czech_linie_oriented.gpkg\n"
     ]
    }
   ],
   "source": [
    "import geopandas as gpd\n",
    "from shapely.geometry import Point\n",
    "\n",
    "# Cesty k souborům (přizpůsob si je podle potřeby)\n",
    "linie_path = \"czech_linie_trimmed.gpkg\"\n",
    "centroidy_path = \"../data/czech/czech_regions_points.gpkg\"\n",
    "output_path = \"czech_linie_oriented.gpkg\"\n",
    "\n",
    "# Načtení dat\n",
    "gdf_lines = gpd.read_file(linie_path)\n",
    "gdf_points = gpd.read_file(centroidy_path)\n",
    "\n",
    "# Ujisti se, že obě vrstvy mají stejné souřadnicové systémy\n",
    "gdf_points = gdf_points.to_crs(gdf_lines.crs)\n",
    "\n",
    "# Výpočet orientace linie:\n",
    "#  1 = linie začíná v centroidu\n",
    "# -1 = linie končí v centroidu\n",
    "#  0 = ani začátek ani konec není v blízkosti centroidu (výjimečný případ)\n",
    "\n",
    "def determine_orientation(row, centroids, tolerance=100):\n",
    "    start = row.geometry.coords[0]\n",
    "    end = row.geometry.coords[-1]\n",
    "    start_point = Point(start)\n",
    "    end_point = Point(end)\n",
    "\n",
    "    if centroids.distance(start_point).min() < tolerance:\n",
    "        return 1\n",
    "    elif centroids.distance(end_point).min() < tolerance:\n",
    "        return -1\n",
    "    else:\n",
    "        return 0\n",
    "\n",
    "# Použij funkci a vytvoř nový sloupec\n",
    "gdf_lines[\"orientation\"] = gdf_lines.apply(\n",
    "    determine_orientation,\n",
    "    axis=1,\n",
    "    centroids=gdf_points.geometry\n",
    ")\n",
    "\n",
    "# Export do nového souboru GeoPackage\n",
    "gdf_lines.to_file(output_path, driver=\"GPKG\", layer=\"linie_oriented\")\n",
    "\n",
    "print(\"✅ Hotovo! Výstup uložen do:\", output_path)\n"
   ]
  },
  {
   "cell_type": "code",
   "execution_count": null,
   "id": "658d1116-3468-4a21-b623-cd131123aa19",
   "metadata": {},
   "outputs": [],
   "source": []
  }
 ],
 "metadata": {
  "kernelspec": {
   "display_name": "Python 3 (ipykernel)",
   "language": "python",
   "name": "python3"
  },
  "language_info": {
   "codemirror_mode": {
    "name": "ipython",
    "version": 3
   },
   "file_extension": ".py",
   "mimetype": "text/x-python",
   "name": "python",
   "nbconvert_exporter": "python",
   "pygments_lexer": "ipython3",
   "version": "3.12.10"
  }
 },
 "nbformat": 4,
 "nbformat_minor": 5
}
