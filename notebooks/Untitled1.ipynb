{
 "cells": [
  {
   "cell_type": "code",
   "execution_count": 3,
   "id": "f3d1692b-a0e4-4f36-a0cc-0e6d8b3bf4dc",
   "metadata": {},
   "outputs": [
    {
     "name": "stdout",
     "output_type": "stream",
     "text": [
      "✅ Hotovo – orientace určena podle originu vs. začátek linie.\n"
     ]
    }
   ],
   "source": [
    "import geopandas as gpd\n",
    "from shapely.geometry import Point\n",
    "\n",
    "# Cesty k datům\n",
    "linie_path = \"czech_linie_trimmed.gpkg\"\n",
    "centroidy_path = \"../data/czech/czech_regions_points.gpkg\"\n",
    "output_path = \"czech_linie_oriented.gpkg\"\n",
    "\n",
    "# Načti data\n",
    "gdf_lines = gpd.read_file(linie_path)\n",
    "gdf_points = gpd.read_file(centroidy_path)\n",
    "\n",
    "# Zajisti stejný CRS\n",
    "gdf_points = gdf_points.to_crs(gdf_lines.crs)\n",
    "\n",
    "# Udělej lookup: jméno regionu → Point\n",
    "region_to_point = dict(zip(gdf_points[\"nazev\"], gdf_points.geometry))\n",
    "\n",
    "# Funkce na zjištění orientace podle blízkosti k centroidům\n",
    "def find_orientation(row, tolerance=100):\n",
    "    origin = row[\"origin\"]\n",
    "    dest = row[\"destination\"]\n",
    "    start = Point(row.geometry.coords[0])\n",
    "    end = Point(row.geometry.coords[-1])\n",
    "    \n",
    "    origin_pt = region_to_point.get(origin)\n",
    "    dest_pt = region_to_point.get(dest)\n",
    "\n",
    "    if origin_pt and start.distance(origin_pt) < tolerance:\n",
    "        return 1  # začíná v originu – vše OK\n",
    "    elif origin_pt and end.distance(origin_pt) < tolerance:\n",
    "        return -1  # začíná v destination → musíme přetočit\n",
    "    else:\n",
    "        return 0  # nepovedlo se spárovat (může být chyba v názvech)\n",
    "\n",
    "# Aplikuj\n",
    "gdf_lines[\"orientation\"] = gdf_lines.apply(find_orientation, axis=1)\n",
    "\n",
    "# Ulož výstup\n",
    "gdf_lines.to_file(output_path, driver=\"GPKG\", layer=\"linie_oriented\")\n",
    "\n",
    "print(\"✅ Hotovo – orientace určena podle originu vs. začátek linie.\")\n"
   ]
  },
  {
   "cell_type": "code",
   "execution_count": null,
   "id": "658d1116-3468-4a21-b623-cd131123aa19",
   "metadata": {},
   "outputs": [],
   "source": []
  }
 ],
 "metadata": {
  "kernelspec": {
   "display_name": "Python 3 (ipykernel)",
   "language": "python",
   "name": "python3"
  },
  "language_info": {
   "codemirror_mode": {
    "name": "ipython",
    "version": 3
   },
   "file_extension": ".py",
   "mimetype": "text/x-python",
   "name": "python",
   "nbconvert_exporter": "python",
   "pygments_lexer": "ipython3",
   "version": "3.12.10"
  }
 },
 "nbformat": 4,
 "nbformat_minor": 5
}
