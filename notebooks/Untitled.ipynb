{
 "cells": [
  {
   "cell_type": "code",
   "execution_count": 1,
   "id": "888748c1-b4f2-49d4-b173-2b93c7583b4c",
   "metadata": {},
   "outputs": [
    {
     "name": "stderr",
     "output_type": "stream",
     "text": [
      "C:\\Users\\michal\\AppData\\Local\\Temp\\ipykernel_15756\\3864526538.py:16: MatplotlibDeprecationWarning: The get_cmap function was deprecated in Matplotlib 3.7 and will be removed in 3.11. Use ``matplotlib.colormaps[name]`` or ``matplotlib.colormaps.get_cmap()`` or ``pyplot.get_cmap()`` instead.\n",
      "  cmap = cm.get_cmap('RdYlGn')  # Red to Green colormap\n"
     ]
    },
    {
     "name": "stdout",
     "output_type": "stream",
     "text": [
      "✅ Export done: ortodromic_erope_gradient_segments.gpkg\n"
     ]
    }
   ],
   "source": [
    "import geopandas as gpd\n",
    "from shapely.geometry import LineString\n",
    "import matplotlib.pyplot as plt\n",
    "import matplotlib.cm as cm\n",
    "import matplotlib.colors as mcolors\n",
    "import numpy as np\n",
    "import pandas as pd\n",
    "\n",
    "# Load original line layer with 'pct'\n",
    "gdf = gpd.read_file(\"ortodromic_erope.gpkg\")\n",
    "\n",
    "# Prepare list to collect new segments\n",
    "segments = []\n",
    "\n",
    "# Function to generate color value between red and green based on position\n",
    "cmap = cm.get_cmap('RdYlGn')  # Red to Green colormap\n",
    "def get_color(position):\n",
    "    rgba = cmap(position)\n",
    "    hex_color = mcolors.to_hex(rgba)\n",
    "    return hex_color\n",
    "\n",
    "# Split each line into N segments and assign color\n",
    "N = 100  # Number of segments\n",
    "for _, row in gdf.iterrows():\n",
    "    line = row.geometry\n",
    "    pct = row.pct if pd.notnull(row.pct) else 0\n",
    "\n",
    "    if not isinstance(line, LineString) or line.length == 0:\n",
    "        continue\n",
    "\n",
    "    for i in range(N):\n",
    "        start_frac = i / N\n",
    "        end_frac = (i + 1) / N\n",
    "\n",
    "        start_point = line.interpolate(start_frac, normalized=True)\n",
    "        end_point = line.interpolate(end_frac, normalized=True)\n",
    "\n",
    "        seg = LineString([start_point, end_point])\n",
    "        \n",
    "        if start_frac <= pct / 100:\n",
    "            color_value = get_color(start_frac)\n",
    "        else:\n",
    "            color_value = get_color(pct / 100)\n",
    "\n",
    "        segments.append({\n",
    "            'origin': row['origin'],\n",
    "            'destination': row['destination'],\n",
    "            'value': row['value'],\n",
    "            'pct': pct,\n",
    "            'position': start_frac,\n",
    "            'color': color_value,\n",
    "            'geometry': seg\n",
    "        })\n",
    "\n",
    "# Convert to GeoDataFrame\n",
    "gdf_segments = gpd.GeoDataFrame(segments, crs=gdf.crs)\n",
    "\n",
    "# Export\n",
    "output_path = \"ortodromic_erope_gradient_segments.gpkg\"\n",
    "gdf_segments.to_file(output_path, driver=\"GPKG\", layer=\"gradient_lines\")\n",
    "\n",
    "print(\"✅ Export done:\", output_path)\n"
   ]
  },
  {
   "cell_type": "code",
   "execution_count": null,
   "id": "4af64818-01d0-43f8-96ca-7b6601fdf58d",
   "metadata": {},
   "outputs": [],
   "source": []
  }
 ],
 "metadata": {
  "kernelspec": {
   "display_name": "Python 3 (ipykernel)",
   "language": "python",
   "name": "python3"
  },
  "language_info": {
   "codemirror_mode": {
    "name": "ipython",
    "version": 3
   },
   "file_extension": ".py",
   "mimetype": "text/x-python",
   "name": "python",
   "nbconvert_exporter": "python",
   "pygments_lexer": "ipython3",
   "version": "3.12.10"
  }
 },
 "nbformat": 4,
 "nbformat_minor": 5
}
