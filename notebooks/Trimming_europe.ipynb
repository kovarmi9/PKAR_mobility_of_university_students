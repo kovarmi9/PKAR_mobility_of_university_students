{
 "cells": [
  {
   "cell_type": "code",
   "execution_count": 2,
   "id": "5124cb07-a8c1-49e6-b36a-3db35f29c67e",
   "metadata": {},
   "outputs": [
    {
     "ename": "AttributeError",
     "evalue": "'NoneType' object has no attribute 'x'",
     "output_type": "error",
     "traceback": [
      "\u001b[31m---------------------------------------------------------------------------\u001b[39m",
      "\u001b[31mAttributeError\u001b[39m                            Traceback (most recent call last)",
      "\u001b[36mCell\u001b[39m\u001b[36m \u001b[39m\u001b[32mIn[2]\u001b[39m\u001b[32m, line 46\u001b[39m\n\u001b[32m     43\u001b[39m     \u001b[38;5;28;01mreturn\u001b[39;00m LineString(trimmed_coords)\n\u001b[32m     45\u001b[39m \u001b[38;5;66;03m# Apply the trimming function\u001b[39;00m\n\u001b[32m---> \u001b[39m\u001b[32m46\u001b[39m gdf[\u001b[33m\"\u001b[39m\u001b[33mgeometry\u001b[39m\u001b[33m\"\u001b[39m] = \u001b[43mgdf\u001b[49m\u001b[43m.\u001b[49m\u001b[43mapply\u001b[49m\u001b[43m(\u001b[49m\u001b[43mtrim_line_by_pct\u001b[49m\u001b[43m,\u001b[49m\u001b[43m \u001b[49m\u001b[43maxis\u001b[49m\u001b[43m=\u001b[49m\u001b[32;43m1\u001b[39;49m\u001b[43m)\u001b[49m\n\u001b[32m     48\u001b[39m \u001b[38;5;66;03m# Export the result to a new GeoPackage\u001b[39;00m\n\u001b[32m     49\u001b[39m output_path = \u001b[33m\"\u001b[39m\u001b[33mortodromic_erope_trimmed.gpkg\u001b[39m\u001b[33m\"\u001b[39m\n",
      "\u001b[36mFile \u001b[39m\u001b[32mC:\\PROGRA~1\\QGIS34~1.6\\apps\\Python312\\Lib\\site-packages\\geopandas\\geodataframe.py:1834\u001b[39m, in \u001b[36mGeoDataFrame.apply\u001b[39m\u001b[34m(self, func, axis, raw, result_type, args, **kwargs)\u001b[39m\n\u001b[32m   1832\u001b[39m \u001b[38;5;129m@doc\u001b[39m(pd.DataFrame)\n\u001b[32m   1833\u001b[39m \u001b[38;5;28;01mdef\u001b[39;00m \u001b[34mapply\u001b[39m(\u001b[38;5;28mself\u001b[39m, func, axis=\u001b[32m0\u001b[39m, raw=\u001b[38;5;28;01mFalse\u001b[39;00m, result_type=\u001b[38;5;28;01mNone\u001b[39;00m, args=(), **kwargs):\n\u001b[32m-> \u001b[39m\u001b[32m1834\u001b[39m     result = \u001b[38;5;28;43msuper\u001b[39;49m\u001b[43m(\u001b[49m\u001b[43m)\u001b[49m\u001b[43m.\u001b[49m\u001b[43mapply\u001b[49m\u001b[43m(\u001b[49m\n\u001b[32m   1835\u001b[39m \u001b[43m        \u001b[49m\u001b[43mfunc\u001b[49m\u001b[43m,\u001b[49m\u001b[43m \u001b[49m\u001b[43maxis\u001b[49m\u001b[43m=\u001b[49m\u001b[43maxis\u001b[49m\u001b[43m,\u001b[49m\u001b[43m \u001b[49m\u001b[43mraw\u001b[49m\u001b[43m=\u001b[49m\u001b[43mraw\u001b[49m\u001b[43m,\u001b[49m\u001b[43m \u001b[49m\u001b[43mresult_type\u001b[49m\u001b[43m=\u001b[49m\u001b[43mresult_type\u001b[49m\u001b[43m,\u001b[49m\u001b[43m \u001b[49m\u001b[43margs\u001b[49m\u001b[43m=\u001b[49m\u001b[43margs\u001b[49m\u001b[43m,\u001b[49m\u001b[43m \u001b[49m\u001b[43m*\u001b[49m\u001b[43m*\u001b[49m\u001b[43mkwargs\u001b[49m\n\u001b[32m   1836\u001b[39m \u001b[43m    \u001b[49m\u001b[43m)\u001b[49m\n\u001b[32m   1837\u001b[39m     \u001b[38;5;66;03m# Reconstruct gdf if it was lost by apply\u001b[39;00m\n\u001b[32m   1838\u001b[39m     \u001b[38;5;28;01mif\u001b[39;00m (\n\u001b[32m   1839\u001b[39m         \u001b[38;5;28misinstance\u001b[39m(result, DataFrame)\n\u001b[32m   1840\u001b[39m         \u001b[38;5;129;01mand\u001b[39;00m \u001b[38;5;28mself\u001b[39m._geometry_column_name \u001b[38;5;129;01min\u001b[39;00m result.columns\n\u001b[32m   1841\u001b[39m     ):\n\u001b[32m   1842\u001b[39m         \u001b[38;5;66;03m# axis=1 apply will split GeometryDType to object, try and cast back\u001b[39;00m\n",
      "\u001b[36mFile \u001b[39m\u001b[32mC:\\PROGRA~1\\QGIS34~1.6\\apps\\Python312\\Lib\\site-packages\\pandas\\core\\frame.py:10374\u001b[39m, in \u001b[36mDataFrame.apply\u001b[39m\u001b[34m(self, func, axis, raw, result_type, args, by_row, engine, engine_kwargs, **kwargs)\u001b[39m\n\u001b[32m  10360\u001b[39m \u001b[38;5;28;01mfrom\u001b[39;00m \u001b[34;01mpandas\u001b[39;00m\u001b[34;01m.\u001b[39;00m\u001b[34;01mcore\u001b[39;00m\u001b[34;01m.\u001b[39;00m\u001b[34;01mapply\u001b[39;00m \u001b[38;5;28;01mimport\u001b[39;00m frame_apply\n\u001b[32m  10362\u001b[39m op = frame_apply(\n\u001b[32m  10363\u001b[39m     \u001b[38;5;28mself\u001b[39m,\n\u001b[32m  10364\u001b[39m     func=func,\n\u001b[32m   (...)\u001b[39m\u001b[32m  10372\u001b[39m     kwargs=kwargs,\n\u001b[32m  10373\u001b[39m )\n\u001b[32m> \u001b[39m\u001b[32m10374\u001b[39m \u001b[38;5;28;01mreturn\u001b[39;00m \u001b[43mop\u001b[49m\u001b[43m.\u001b[49m\u001b[43mapply\u001b[49m\u001b[43m(\u001b[49m\u001b[43m)\u001b[49m.__finalize__(\u001b[38;5;28mself\u001b[39m, method=\u001b[33m\"\u001b[39m\u001b[33mapply\u001b[39m\u001b[33m\"\u001b[39m)\n",
      "\u001b[36mFile \u001b[39m\u001b[32mC:\\PROGRA~1\\QGIS34~1.6\\apps\\Python312\\Lib\\site-packages\\pandas\\core\\apply.py:916\u001b[39m, in \u001b[36mFrameApply.apply\u001b[39m\u001b[34m(self)\u001b[39m\n\u001b[32m    913\u001b[39m \u001b[38;5;28;01melif\u001b[39;00m \u001b[38;5;28mself\u001b[39m.raw:\n\u001b[32m    914\u001b[39m     \u001b[38;5;28;01mreturn\u001b[39;00m \u001b[38;5;28mself\u001b[39m.apply_raw(engine=\u001b[38;5;28mself\u001b[39m.engine, engine_kwargs=\u001b[38;5;28mself\u001b[39m.engine_kwargs)\n\u001b[32m--> \u001b[39m\u001b[32m916\u001b[39m \u001b[38;5;28;01mreturn\u001b[39;00m \u001b[38;5;28;43mself\u001b[39;49m\u001b[43m.\u001b[49m\u001b[43mapply_standard\u001b[49m\u001b[43m(\u001b[49m\u001b[43m)\u001b[49m\n",
      "\u001b[36mFile \u001b[39m\u001b[32mC:\\PROGRA~1\\QGIS34~1.6\\apps\\Python312\\Lib\\site-packages\\pandas\\core\\apply.py:1063\u001b[39m, in \u001b[36mFrameApply.apply_standard\u001b[39m\u001b[34m(self)\u001b[39m\n\u001b[32m   1061\u001b[39m \u001b[38;5;28;01mdef\u001b[39;00m \u001b[34mapply_standard\u001b[39m(\u001b[38;5;28mself\u001b[39m):\n\u001b[32m   1062\u001b[39m     \u001b[38;5;28;01mif\u001b[39;00m \u001b[38;5;28mself\u001b[39m.engine == \u001b[33m\"\u001b[39m\u001b[33mpython\u001b[39m\u001b[33m\"\u001b[39m:\n\u001b[32m-> \u001b[39m\u001b[32m1063\u001b[39m         results, res_index = \u001b[38;5;28;43mself\u001b[39;49m\u001b[43m.\u001b[49m\u001b[43mapply_series_generator\u001b[49m\u001b[43m(\u001b[49m\u001b[43m)\u001b[49m\n\u001b[32m   1064\u001b[39m     \u001b[38;5;28;01melse\u001b[39;00m:\n\u001b[32m   1065\u001b[39m         results, res_index = \u001b[38;5;28mself\u001b[39m.apply_series_numba()\n",
      "\u001b[36mFile \u001b[39m\u001b[32mC:\\PROGRA~1\\QGIS34~1.6\\apps\\Python312\\Lib\\site-packages\\pandas\\core\\apply.py:1081\u001b[39m, in \u001b[36mFrameApply.apply_series_generator\u001b[39m\u001b[34m(self)\u001b[39m\n\u001b[32m   1078\u001b[39m \u001b[38;5;28;01mwith\u001b[39;00m option_context(\u001b[33m\"\u001b[39m\u001b[33mmode.chained_assignment\u001b[39m\u001b[33m\"\u001b[39m, \u001b[38;5;28;01mNone\u001b[39;00m):\n\u001b[32m   1079\u001b[39m     \u001b[38;5;28;01mfor\u001b[39;00m i, v \u001b[38;5;129;01min\u001b[39;00m \u001b[38;5;28menumerate\u001b[39m(series_gen):\n\u001b[32m   1080\u001b[39m         \u001b[38;5;66;03m# ignore SettingWithCopy here in case the user mutates\u001b[39;00m\n\u001b[32m-> \u001b[39m\u001b[32m1081\u001b[39m         results[i] = \u001b[38;5;28;43mself\u001b[39;49m\u001b[43m.\u001b[49m\u001b[43mfunc\u001b[49m\u001b[43m(\u001b[49m\u001b[43mv\u001b[49m\u001b[43m,\u001b[49m\u001b[43m \u001b[49m\u001b[43m*\u001b[49m\u001b[38;5;28;43mself\u001b[39;49m\u001b[43m.\u001b[49m\u001b[43margs\u001b[49m\u001b[43m,\u001b[49m\u001b[43m \u001b[49m\u001b[43m*\u001b[49m\u001b[43m*\u001b[49m\u001b[38;5;28;43mself\u001b[39;49m\u001b[43m.\u001b[49m\u001b[43mkwargs\u001b[49m\u001b[43m)\u001b[49m\n\u001b[32m   1082\u001b[39m         \u001b[38;5;28;01mif\u001b[39;00m \u001b[38;5;28misinstance\u001b[39m(results[i], ABCSeries):\n\u001b[32m   1083\u001b[39m             \u001b[38;5;66;03m# If we have a view on v, we need to make a copy because\u001b[39;00m\n\u001b[32m   1084\u001b[39m             \u001b[38;5;66;03m#  series_generator will swap out the underlying data\u001b[39;00m\n\u001b[32m   1085\u001b[39m             results[i] = results[i].copy(deep=\u001b[38;5;28;01mFalse\u001b[39;00m)\n",
      "\u001b[36mCell\u001b[39m\u001b[36m \u001b[39m\u001b[32mIn[2]\u001b[39m\u001b[32m, line 41\u001b[39m, in \u001b[36mtrim_line_by_pct\u001b[39m\u001b[34m(row)\u001b[39m\n\u001b[32m     39\u001b[39m \u001b[38;5;28;01mif\u001b[39;00m \u001b[38;5;28mlen\u001b[39m(trimmed_coords) < \u001b[32m2\u001b[39m:\n\u001b[32m     40\u001b[39m     endpoint = line.interpolate(target_length)\n\u001b[32m---> \u001b[39m\u001b[32m41\u001b[39m     \u001b[38;5;28;01mreturn\u001b[39;00m LineString([line.coords[\u001b[32m0\u001b[39m], (\u001b[43mendpoint\u001b[49m\u001b[43m.\u001b[49m\u001b[43mx\u001b[49m, endpoint.y)])\n\u001b[32m     43\u001b[39m \u001b[38;5;28;01mreturn\u001b[39;00m LineString(trimmed_coords)\n",
      "\u001b[31mAttributeError\u001b[39m: 'NoneType' object has no attribute 'x'"
     ]
    }
   ],
   "source": [
    "import geopandas as gpd\n",
    "from shapely.geometry import LineString\n",
    "\n",
    "# Load the European line layer with 'pct' attribute\n",
    "gdf = gpd.read_file(\"ortodromic_erope.gpkg\")\n",
    "\n",
    "# Function to trim line according to the percentage from origin to destination\n",
    "def trim_line_by_pct(row):\n",
    "    line = row.geometry\n",
    "    pct = row.pct\n",
    "\n",
    "    if not isinstance(line, LineString) or pct is None:\n",
    "        return line\n",
    "\n",
    "    if pct >= 100:\n",
    "        return line\n",
    "\n",
    "    target_length = line.length * (pct / 100)\n",
    "    trimmed_coords = []\n",
    "    current_length = 0\n",
    "\n",
    "    for i in range(len(line.coords) - 1):\n",
    "        start = line.coords[i]\n",
    "        end = line.coords[i + 1]\n",
    "        segment = LineString([start, end])\n",
    "        seg_length = segment.length\n",
    "\n",
    "        if current_length + seg_length < target_length:\n",
    "            trimmed_coords.append(start)\n",
    "            current_length += seg_length\n",
    "        else:\n",
    "            remaining = target_length - current_length\n",
    "            if remaining > 0:\n",
    "                point = segment.interpolate(remaining)\n",
    "                trimmed_coords.append(start)\n",
    "                trimmed_coords.append((point.x, point.y))\n",
    "            break\n",
    "\n",
    "    if len(trimmed_coords) < 2:\n",
    "        endpoint = line.interpolate(target_length)\n",
    "        return LineString([line.coords[0], (endpoint.x, endpoint.y)])\n",
    "\n",
    "    return LineString(trimmed_coords)\n",
    "\n",
    "# Apply the trimming function\n",
    "gdf[\"geometry\"] = gdf.apply(trim_line_by_pct, axis=1)\n",
    "\n",
    "# Export the result to a new GeoPackage\n",
    "output_path = \"ortodromic_erope_trimmed.gpkg\"\n",
    "gdf.to_file(output_path, driver=\"GPKG\", layer=\"trimmed_lines\")\n"
   ]
  },
  {
   "cell_type": "code",
   "execution_count": null,
   "id": "11627c3a-cfed-4a74-aa98-ee9ea43e07e5",
   "metadata": {},
   "outputs": [],
   "source": []
  }
 ],
 "metadata": {
  "kernelspec": {
   "display_name": "Python 3 (ipykernel)",
   "language": "python",
   "name": "python3"
  },
  "language_info": {
   "codemirror_mode": {
    "name": "ipython",
    "version": 3
   },
   "file_extension": ".py",
   "mimetype": "text/x-python",
   "name": "python",
   "nbconvert_exporter": "python",
   "pygments_lexer": "ipython3",
   "version": "3.12.10"
  }
 },
 "nbformat": 4,
 "nbformat_minor": 5
}
