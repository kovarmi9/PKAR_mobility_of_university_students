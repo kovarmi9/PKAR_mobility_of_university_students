{
 "cells": [
  {
   "cell_type": "code",
   "execution_count": 19,
   "id": "9cc69ab7-b218-49a9-9c5d-8da682dad898",
   "metadata": {},
   "outputs": [],
   "source": [
    "import numpy as np\n",
    "import geopandas as gpd\n",
    "from shapely.geometry import Point\n",
    "from shapely.geometry import LineString\n",
    "from shapely.affinity import translate"
   ]
  },
  {
   "cell_type": "code",
   "execution_count": 20,
   "id": "d7553836-16b0-4796-a84e-52ef674caf7f",
   "metadata": {},
   "outputs": [],
   "source": [
    "# Load centroids\n",
    "centroids_gdf = gpd.read_file(\"../../data/czech/czech_centriods.gpkg\")"
   ]
  },
  {
   "cell_type": "code",
   "execution_count": 21,
   "id": "fa579d59-aa83-45ea-a8c8-a27fd7cabb8d",
   "metadata": {},
   "outputs": [],
   "source": [
    "# Select base point for legend (Středočeský kraj)\n",
    "base_point = centroids_gdf[centroids_gdf[\"nazev\"] == \"Středočeský kraj\"].geometry.values[0]"
   ]
  },
  {
   "cell_type": "code",
   "execution_count": 22,
   "id": "bb4b8eb1-ebdb-4a79-a442-20dc94e18e22",
   "metadata": {},
   "outputs": [
    {
     "name": "stdout",
     "output_type": "stream",
     "text": [
      "                          geometry  prichozi  odchozi  celkem\n",
      "0  POINT (4623222.961 2973912.777)      1001     1000    2001\n",
      "1  POINT (4623222.961 2948912.777)      1000     1001    2001\n"
     ]
    }
   ],
   "source": [
    "# Create vertical legend points (stacked 50 km apart)\n",
    "legend_vertical = gpd.GeoDataFrame([\n",
    "    {\"geometry\": base_point, \"prichozi\": 1001, \"odchozi\": 1000, \"celkem\": 2001},\n",
    "    {\"geometry\": translate(base_point, xoff=0, yoff=-25000), \"prichozi\": 1000, \"odchozi\": 1001, \"celkem\": 2001}\n",
    "], crs=centroids_gdf.crs)\n",
    "\n",
    "print(legend_vertical)"
   ]
  },
  {
   "cell_type": "code",
   "execution_count": 107,
   "id": "4273ba7f-7632-4d73-8a58-93f97a56ad76",
   "metadata": {},
   "outputs": [
    {
     "name": "stdout",
     "output_type": "stream",
     "text": [
      "                          geometry  prichozi  odchozi  celkem\n",
      "0  POINT (4623222.961 3013912.777)         0     1000    1000\n",
      "1  POINT (4623222.961 3023912.777)      1000        0    1000\n"
     ]
    }
   ],
   "source": [
    "# Create vertical legend points (stacked 50 km apart)\n",
    "legend_vertical2 = gpd.GeoDataFrame([\n",
    "    {\"geometry\": translate(base_point, xoff=0, yoff=40000), \"prichozi\": 0, \"odchozi\": 1000, \"celkem\": 1000},\n",
    "    {\"geometry\": translate(base_point, xoff=0, yoff=50000), \"prichozi\": 1000, \"odchozi\": 0, \"celkem\": 1000}\n",
    "], crs=centroids_gdf.crs)\n",
    "\n",
    "print(legend_vertical2)"
   ]
  },
  {
   "cell_type": "code",
   "execution_count": 108,
   "id": "d946b197-9456-4320-86c0-2c581dd6d870",
   "metadata": {},
   "outputs": [],
   "source": [
    "# Create horizontal legend points (spaced 60 km apart)\n",
    "point_left   = translate(base_point, xoff=0, yoff=-50000)\n",
    "point_middle = translate(base_point, xoff=25000, yoff=-50000)\n",
    "point_right  = translate(base_point, xoff=60000, yoff=-50000)"
   ]
  },
  {
   "cell_type": "code",
   "execution_count": 109,
   "id": "7285bff2-7010-40dc-a831-0e1c52c0c6e5",
   "metadata": {},
   "outputs": [],
   "source": [
    "# Get total values from selected regions\n",
    "total_kk  = centroids_gdf[centroids_gdf[\"nazev\"] == \"Karlovarský kraj\"][\"celkem\"].values[0]\n",
    "total_stc = centroids_gdf[centroids_gdf[\"nazev\"] == \"Středočeský kraj\"][\"celkem\"].values[0]\n",
    "total_prg = centroids_gdf[centroids_gdf[\"nazev\"] == \"Hlavní město Praha\"][\"celkem\"].values[0]"
   ]
  },
  {
   "cell_type": "code",
   "execution_count": 110,
   "id": "ffe31533-5b33-4a37-8d02-e9923ac2a165",
   "metadata": {},
   "outputs": [],
   "source": [
    "# Round total_kk and total_prg to the nearest thousand\n",
    "kk_rounded = round(total_kk / 1000) * 1000\n",
    "prg_rounded = round(total_prg / 1000) * 1000"
   ]
  },
  {
   "cell_type": "code",
   "execution_count": 111,
   "id": "2c002a05-94bb-4a6f-902c-867075b0adda",
   "metadata": {},
   "outputs": [],
   "source": [
    "# Compute square roots\n",
    "sqrt_kk = np.sqrt(kk_rounded)\n",
    "sqrt_prg = np.sqrt(prg_rounded)"
   ]
  },
  {
   "cell_type": "code",
   "execution_count": 112,
   "id": "61eda299-384f-4b33-8cef-884237e88a69",
   "metadata": {},
   "outputs": [],
   "source": [
    "# Calculate the average of the square roots\n",
    "avg_sqrt = (sqrt_kk + sqrt_prg) / 2"
   ]
  },
  {
   "cell_type": "code",
   "execution_count": 113,
   "id": "318188ff-fb0b-4b54-92d7-fee76cc370e7",
   "metadata": {},
   "outputs": [],
   "source": [
    "# Square the average and round to the nearest thousand\n",
    "middle = round((avg_sqrt ** 2) / 1000) * 1000"
   ]
  },
  {
   "cell_type": "code",
   "execution_count": 114,
   "id": "5586b6af-71c4-47b0-b3f0-0185e33f051c",
   "metadata": {},
   "outputs": [
    {
     "name": "stdout",
     "output_type": "stream",
     "text": [
      "Rounded total_kk: 5000\n",
      "Rounded total_prg: 75000\n",
      "Smoothed total_stc: 30000\n"
     ]
    }
   ],
   "source": [
    "# Print for verification (optional)\n",
    "print(\"Rounded total_kk:\", kk_rounded)\n",
    "print(\"Rounded total_prg:\", prg_rounded)\n",
    "print(\"Smoothed total_stc:\", middle)"
   ]
  },
  {
   "cell_type": "code",
   "execution_count": 115,
   "id": "3481800a-e014-421b-82a0-33b73a6bf067",
   "metadata": {},
   "outputs": [
    {
     "name": "stdout",
     "output_type": "stream",
     "text": [
      "                          geometry  celkem\n",
      "0  POINT (4623222.961 2914912.777)    5000\n",
      "1  POINT (4668222.961 2919412.777)   30000\n",
      "2  POINT (4723222.961 2923912.777)   75000\n"
     ]
    }
   ],
   "source": [
    "legend_horizontal = gpd.GeoDataFrame([\n",
    "    {\"geometry\": translate(base_point, xoff=0, yoff=-59000),   \"celkem\": kk_rounded},\n",
    "    {\"geometry\": translate(base_point, xoff=45000, yoff=-54500), \"celkem\": middle},\n",
    "    {\"geometry\": translate(base_point, xoff=100000, yoff=-50000),  \"celkem\": prg_rounded}\n",
    "], crs=centroids_gdf.crs)\n",
    "print(legend_horizontal)"
   ]
  },
  {
   "cell_type": "code",
   "execution_count": 116,
   "id": "4cea882a-3863-4dcd-93ea-a97d99f7a1a2",
   "metadata": {},
   "outputs": [],
   "source": [
    "# \n",
    "#○point_right = Point(point_right.x, point_right.y + 1000.001)\n",
    "full_line = LineString([point_left, point_right])\n",
    "full_line_shifted = translate(full_line, xoff=0, yoff=-25000)"
   ]
  },
  {
   "cell_type": "code",
   "execution_count": 117,
   "id": "87987da4-ab99-4b9e-8292-87494ce341d8",
   "metadata": {},
   "outputs": [],
   "source": [
    "# 3. \n",
    "def trim_line(line, pct):\n",
    "    target_length = line.length * pct\n",
    "    trimmed_coords = []\n",
    "    current_length = 0\n",
    "\n",
    "    coords = list(line.coords)\n",
    "    for i in range(len(coords) - 1):\n",
    "        start = coords[i]\n",
    "        end = coords[i + 1]\n",
    "        segment = LineString([start, end])\n",
    "        seg_length = segment.length\n",
    "\n",
    "        if current_length + seg_length < target_length:\n",
    "            trimmed_coords.append(start)\n",
    "            current_length += seg_length\n",
    "        else:\n",
    "            remaining = target_length - current_length\n",
    "            point = segment.interpolate(remaining)\n",
    "            trimmed_coords.append(start)\n",
    "            trimmed_coords.append((point.x, point.y))\n",
    "            break\n",
    "\n",
    "    if len(trimmed_coords) < 2:\n",
    "        return LineString([coords[0], coords[0]])\n",
    "    return LineString(trimmed_coords)"
   ]
  },
  {
   "cell_type": "code",
   "execution_count": 118,
   "id": "fbdc6ccd-98d1-41fe-8987-768911e80b08",
   "metadata": {},
   "outputs": [],
   "source": [
    "# \n",
    "line_50l = translate(trim_line(full_line, 0.50), xoff=0, yoff=-25000)\n",
    "line_50r = translate(trim_line(full_line, 0.50), xoff=25000, yoff=-25000)\n",
    "line_25l = translate(trim_line(full_line, 0.25), xoff=0, yoff=-50000)\n",
    "line_25r = translate(trim_line(full_line, 0.75), xoff=12500, yoff=-50000)\n",
    "line_75l = translate(trim_line(full_line, 0.75), xoff=0, yoff=-75000)\n",
    "line_75r = translate(trim_line(full_line, 0.25), xoff=37500, yoff=-75000)"
   ]
  },
  {
   "cell_type": "code",
   "execution_count": 119,
   "id": "f642ad40-f208-4c9d-b1cc-287fff13e431",
   "metadata": {},
   "outputs": [],
   "source": [
    "# 5. Create geodatafram\n",
    "legend_lines = gpd.GeoDataFrame([\n",
    "    {\"geometry\": line_50l, \"nazev\": \"50l\", \"typ\": \"l\"},\n",
    "    {\"geometry\": line_50r, \"nazev\": \"50r\", \"typ\": \"r\"},\n",
    "    {\"geometry\": line_25l, \"nazev\": \"25l\", \"typ\": \"l\"},\n",
    "    {\"geometry\": line_25r, \"nazev\": \"25r\", \"typ\": \"r\"},\n",
    "    {\"geometry\": line_75l, \"nazev\": \"75l\", \"typ\": \"l\"},\n",
    "    {\"geometry\": line_75r, \"nazev\": \"75r\", \"typ\": \"r\"},\n",
    "], crs=legend_horizontal.crs)"
   ]
  },
  {
   "cell_type": "code",
   "execution_count": 120,
   "id": "097a8267-57ed-44d4-8a9e-83de9f42b2d8",
   "metadata": {},
   "outputs": [],
   "source": [
    "# 5. Save both to a single GeoPackage\n",
    "output_path = \"legend_combined.gpkg\"\n",
    "legend_vertical.to_file(output_path, layer=\"legend_vertical\", driver=\"GPKG\")\n",
    "legend_vertical2.to_file(output_path, layer=\"legend_vertical2\", driver=\"GPKG\")\n",
    "legend_horizontal.to_file(output_path, layer=\"legend_horizontal\", driver=\"GPKG\")\n",
    "legend_lines.to_file(output_path, layer=\"legend_lines\", driver=\"GPKG\")"
   ]
  },
  {
   "cell_type": "code",
   "execution_count": null,
   "id": "a0427b71-a81b-4105-8698-9ae92c73c466",
   "metadata": {},
   "outputs": [],
   "source": []
  },
  {
   "cell_type": "code",
   "execution_count": null,
   "id": "98ce1ea7-d685-4d4b-872e-7a270dbb75e5",
   "metadata": {},
   "outputs": [],
   "source": []
  },
  {
   "cell_type": "code",
   "execution_count": null,
   "id": "d834a948-ba2b-40a6-9ce9-6b60a2822829",
   "metadata": {},
   "outputs": [],
   "source": []
  }
 ],
 "metadata": {
  "kernelspec": {
   "display_name": "Python 3 (ipykernel)",
   "language": "python",
   "name": "python3"
  },
  "language_info": {
   "codemirror_mode": {
    "name": "ipython",
    "version": 3
   },
   "file_extension": ".py",
   "mimetype": "text/x-python",
   "name": "python",
   "nbconvert_exporter": "python",
   "pygments_lexer": "ipython3",
   "version": "3.12.10"
  }
 },
 "nbformat": 4,
 "nbformat_minor": 5
}
