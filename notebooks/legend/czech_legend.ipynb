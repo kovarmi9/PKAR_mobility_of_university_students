{
 "cells": [
  {
   "cell_type": "code",
   "execution_count": 125,
   "id": "9cc69ab7-b218-49a9-9c5d-8da682dad898",
   "metadata": {},
   "outputs": [],
   "source": [
    "import geopandas as gpd\n",
    "from shapely.geometry import Point\n",
    "from shapely.geometry import LineString\n",
    "from shapely.affinity import translate"
   ]
  },
  {
   "cell_type": "code",
   "execution_count": 126,
   "id": "d7553836-16b0-4796-a84e-52ef674caf7f",
   "metadata": {},
   "outputs": [],
   "source": [
    "# 1. Load centroids\n",
    "centroids_gdf = gpd.read_file(\"../../data/czech/czech_centriods.gpkg\")"
   ]
  },
  {
   "cell_type": "code",
   "execution_count": 127,
   "id": "fa579d59-aa83-45ea-a8c8-a27fd7cabb8d",
   "metadata": {},
   "outputs": [],
   "source": [
    "# 2. Select base point for legend (Středočeský kraj)\n",
    "base_point = centroids_gdf[centroids_gdf[\"nazev\"] == \"Středočeský kraj\"].geometry.values[0]"
   ]
  },
  {
   "cell_type": "code",
   "execution_count": 128,
   "id": "bb4b8eb1-ebdb-4a79-a442-20dc94e18e22",
   "metadata": {},
   "outputs": [
    {
     "name": "stdout",
     "output_type": "stream",
     "text": [
      "                          geometry  prichozi  odchozi  celkem\n",
      "0  POINT (4623222.961 2973912.777)      1001     1000    2001\n",
      "1  POINT (4623222.961 2948912.777)      1000     1001    2001\n"
     ]
    }
   ],
   "source": [
    "# 3. Create vertical legend points (stacked 50 km apart)\n",
    "legend_vertical = gpd.GeoDataFrame([\n",
    "    {\"geometry\": base_point, \"prichozi\": 1001, \"odchozi\": 1000, \"celkem\": 2001},\n",
    "    {\"geometry\": translate(base_point, xoff=0, yoff=-25000), \"prichozi\": 1000, \"odchozi\": 1001, \"celkem\": 2001}\n",
    "], crs=centroids_gdf.crs)\n",
    "\n",
    "print(legend_vertical)"
   ]
  },
  {
   "cell_type": "code",
   "execution_count": 129,
   "id": "d946b197-9456-4320-86c0-2c581dd6d870",
   "metadata": {},
   "outputs": [],
   "source": [
    "# 4. Create horizontal legend points (spaced 60 km apart)\n",
    "point_left   = translate(base_point, xoff=0, yoff=-50000)\n",
    "point_middle = translate(base_point, xoff=25000, yoff=-50000)\n",
    "point_right  = translate(base_point, xoff=50000, yoff=-50000)"
   ]
  },
  {
   "cell_type": "code",
   "execution_count": 130,
   "id": "7285bff2-7010-40dc-a831-0e1c52c0c6e5",
   "metadata": {},
   "outputs": [],
   "source": [
    "# 2. Get total values from selected regions\n",
    "total_kk  = centroids_gdf[centroids_gdf[\"nazev\"] == \"Karlovarský kraj\"][\"celkem\"].values[0]\n",
    "total_stc = centroids_gdf[centroids_gdf[\"nazev\"] == \"Středočeský kraj\"][\"celkem\"].values[0]\n",
    "total_prg = centroids_gdf[centroids_gdf[\"nazev\"] == \"Hlavní město Praha\"][\"celkem\"].values[0]"
   ]
  },
  {
   "cell_type": "code",
   "execution_count": 131,
   "id": "3481800a-e014-421b-82a0-33b73a6bf067",
   "metadata": {},
   "outputs": [
    {
     "name": "stdout",
     "output_type": "stream",
     "text": [
      "                          geometry  celkem\n",
      "0  POINT (4623222.961 2923912.777)    5196\n",
      "1  POINT (4648222.961 2923912.777)   35056\n",
      "2  POINT (4673222.961 2923912.777)   75229\n"
     ]
    }
   ],
   "source": [
    "legend_horizontal = gpd.GeoDataFrame([\n",
    "    {\"geometry\": point_left,   \"celkem\": total_kk},\n",
    "    {\"geometry\": point_middle, \"celkem\": total_stc},\n",
    "    {\"geometry\": point_right,  \"celkem\": total_prg}\n",
    "], crs=centroids_gdf.crs)\n",
    "print(legend_horizontal)"
   ]
  },
  {
   "cell_type": "code",
   "execution_count": 132,
   "id": "4cea882a-3863-4dcd-93ea-a97d99f7a1a2",
   "metadata": {},
   "outputs": [],
   "source": [
    "# 2. Vytvoříme základní linii a posuneme ji dolů\n",
    "#○point_right = Point(point_right.x, point_right.y + 1000.001)\n",
    "full_line = LineString([point_left, point_right])\n",
    "full_line_shifted = translate(full_line, xoff=0, yoff=-25000)"
   ]
  },
  {
   "cell_type": "code",
   "execution_count": 133,
   "id": "87987da4-ab99-4b9e-8292-87494ce341d8",
   "metadata": {},
   "outputs": [],
   "source": [
    "# 3. Funkce pro oříznutí linie podle procenta\n",
    "def trim_line(line, pct):\n",
    "    target_length = line.length * pct\n",
    "    trimmed_coords = []\n",
    "    current_length = 0\n",
    "\n",
    "    coords = list(line.coords)\n",
    "    for i in range(len(coords) - 1):\n",
    "        start = coords[i]\n",
    "        end = coords[i + 1]\n",
    "        segment = LineString([start, end])\n",
    "        seg_length = segment.length\n",
    "\n",
    "        if current_length + seg_length < target_length:\n",
    "            trimmed_coords.append(start)\n",
    "            current_length += seg_length\n",
    "        else:\n",
    "            remaining = target_length - current_length\n",
    "            point = segment.interpolate(remaining)\n",
    "            trimmed_coords.append(start)\n",
    "            trimmed_coords.append((point.x, point.y))\n",
    "            break\n",
    "\n",
    "    if len(trimmed_coords) < 2:\n",
    "        return LineString([coords[0], coords[0]])\n",
    "    return LineString(trimmed_coords)"
   ]
  },
  {
   "cell_type": "code",
   "execution_count": 134,
   "id": "fbdc6ccd-98d1-41fe-8987-768911e80b08",
   "metadata": {},
   "outputs": [],
   "source": [
    "# 4. Vytvoříme oříznuté linie a také je posuneme\n",
    "line_50l = translate(trim_line(full_line, 0.50), xoff=0, yoff=-25000)\n",
    "line_50r = translate(trim_line(full_line, 0.50), xoff=25000, yoff=-25000)\n",
    "line_25l = translate(trim_line(full_line, 0.25), xoff=0, yoff=-50000)\n",
    "line_25r = translate(trim_line(full_line, 0.75), xoff=12500, yoff=-50000)\n",
    "line_75l = translate(trim_line(full_line, 0.75), xoff=0, yoff=-75000)\n",
    "line_75r = translate(trim_line(full_line, 0.25), xoff=37500, yoff=-75000)"
   ]
  },
  {
   "cell_type": "code",
   "execution_count": 135,
   "id": "f642ad40-f208-4c9d-b1cc-287fff13e431",
   "metadata": {},
   "outputs": [],
   "source": [
    "# 5. Sestavíme GeoDataFrame\n",
    "legend_lines = gpd.GeoDataFrame([\n",
    "    {\"geometry\": line_50l, \"nazev\": \"50l\", \"typ\": \"l\"},\n",
    "    {\"geometry\": line_50r, \"nazev\": \"50r\", \"typ\": \"r\"},\n",
    "    {\"geometry\": line_25l, \"nazev\": \"25l\", \"typ\": \"l\"},\n",
    "    {\"geometry\": line_25r, \"nazev\": \"25r\", \"typ\": \"r\"},\n",
    "    {\"geometry\": line_75l, \"nazev\": \"75l\", \"typ\": \"l\"},\n",
    "    {\"geometry\": line_75r, \"nazev\": \"75r\", \"typ\": \"r\"},\n",
    "], crs=legend_horizontal.crs)"
   ]
  },
  {
   "cell_type": "code",
   "execution_count": 136,
   "id": "097a8267-57ed-44d4-8a9e-83de9f42b2d8",
   "metadata": {},
   "outputs": [],
   "source": [
    "# 5. Save both to a single GeoPackage\n",
    "output_path = \"legend_combined.gpkg\"\n",
    "legend_vertical.to_file(output_path, layer=\"legend_vertical\", driver=\"GPKG\")\n",
    "legend_horizontal.to_file(output_path, layer=\"legend_horizontal\", driver=\"GPKG\")\n",
    "legend_lines.to_file(output_path, layer=\"legend_lines\", driver=\"GPKG\")"
   ]
  },
  {
   "cell_type": "code",
   "execution_count": null,
   "id": "c5fe0621-43e6-4ed5-ba5a-28a4928e469f",
   "metadata": {},
   "outputs": [],
   "source": []
  },
  {
   "cell_type": "code",
   "execution_count": null,
   "id": "f82d27da-d204-4a02-b3e0-2cc229053eb6",
   "metadata": {},
   "outputs": [],
   "source": []
  },
  {
   "cell_type": "code",
   "execution_count": null,
   "id": "3a1790a6-df49-4de0-83c0-48b960daa185",
   "metadata": {},
   "outputs": [],
   "source": []
  }
 ],
 "metadata": {
  "kernelspec": {
   "display_name": "Python 3 (ipykernel)",
   "language": "python",
   "name": "python3"
  },
  "language_info": {
   "codemirror_mode": {
    "name": "ipython",
    "version": 3
   },
   "file_extension": ".py",
   "mimetype": "text/x-python",
   "name": "python",
   "nbconvert_exporter": "python",
   "pygments_lexer": "ipython3",
   "version": "3.12.10"
  }
 },
 "nbformat": 4,
 "nbformat_minor": 5
}
