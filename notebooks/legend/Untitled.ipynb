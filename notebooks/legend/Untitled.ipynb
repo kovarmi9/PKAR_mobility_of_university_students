{
 "cells": [
  {
   "cell_type": "code",
   "execution_count": null,
   "id": "9cc69ab7-b218-49a9-9c5d-8da682dad898",
   "metadata": {},
   "outputs": [],
   "source": [
    "import geopandas as gpd\n",
    "from shapely.geometry import Point\n",
    "from shapely.affinity import translate"
   ]
  },
  {
   "cell_type": "code",
   "execution_count": null,
   "id": "d7553836-16b0-4796-a84e-52ef674caf7f",
   "metadata": {},
   "outputs": [],
   "source": [
    "# 1. Load centroids\n",
    "centroids_gdf = gpd.read_file(\"../../data/czech/czech_centriods.gpkg\")"
   ]
  },
  {
   "cell_type": "code",
   "execution_count": null,
   "id": "fa579d59-aa83-45ea-a8c8-a27fd7cabb8d",
   "metadata": {},
   "outputs": [],
   "source": [
    "# 2. Select base point for legend (Středočeský kraj)\n",
    "base_point = centroids_gdf[centroids_gdf[\"nazev\"] == \"Středočeský kraj\"].geometry.values[0]"
   ]
  },
  {
   "cell_type": "code",
   "execution_count": null,
   "id": "bb4b8eb1-ebdb-4a79-a442-20dc94e18e22",
   "metadata": {},
   "outputs": [],
   "source": [
    "# 3. Create vertical legend points (stacked 50 km apart)\n",
    "legend_vertical = gpd.GeoDataFrame([\n",
    "    {\"geometry\": base_point, \"prichozi\": 1001, \"odchozi\": 1000, \"celkem\": 2001},\n",
    "    {\"geometry\": translate(base_point, xoff=0, yoff=-25000), \"prichozi\": 1000, \"odchozi\": 1001, \"celkem\": 2001}\n",
    "], crs=centroids_gdf.crs)"
   ]
  },
  {
   "cell_type": "code",
   "execution_count": null,
   "id": "39e524c5-c9eb-41c4-910c-29d04a0cbd80",
   "metadata": {},
   "outputs": [
    {
     "data": {
      "text/html": [
       "<div>\n",
       "<style scoped>\n",
       "    .dataframe tbody tr th:only-of-type {\n",
       "        vertical-align: middle;\n",
       "    }\n",
       "\n",
       "    .dataframe tbody tr th {\n",
       "        vertical-align: top;\n",
       "    }\n",
       "\n",
       "    .dataframe thead th {\n",
       "        text-align: right;\n",
       "    }\n",
       "</style>\n",
       "<table border=\"1\" class=\"dataframe\">\n",
       "  <thead>\n",
       "    <tr style=\"text-align: right;\">\n",
       "      <th></th>\n",
       "      <th>geometry</th>\n",
       "      <th>celkem</th>\n",
       "    </tr>\n",
       "  </thead>\n",
       "  <tbody>\n",
       "    <tr>\n",
       "      <th>0</th>\n",
       "      <td>POINT (4623222.961 2923912.777)</td>\n",
       "      <td>5196</td>\n",
       "    </tr>\n",
       "    <tr>\n",
       "      <th>1</th>\n",
       "      <td>POINT (4673222.961 2923912.777)</td>\n",
       "      <td>35056</td>\n",
       "    </tr>\n",
       "    <tr>\n",
       "      <th>2</th>\n",
       "      <td>POINT (4723222.961 2923912.777)</td>\n",
       "      <td>75229</td>\n",
       "    </tr>\n",
       "  </tbody>\n",
       "</table>\n",
       "</div>"
      ],
      "text/plain": [
       "                          geometry  celkem\n",
       "0  POINT (4623222.961 2923912.777)    5196\n",
       "1  POINT (4673222.961 2923912.777)   35056\n",
       "2  POINT (4723222.961 2923912.777)   75229"
      ]
     },
     "execution_count": 25,
     "metadata": {},
     "output_type": "execute_result"
    }
   ],
   "source": [
    "# 4. Create horizontal legend points (spaced 60 km apart)\n",
    "point_left   = translate(base_point, xoff=0, yoff=-50000)\n",
    "point_middle = translate(base_point, xoff=50000, yoff=-50000)\n",
    "point_right  = translate(base_point, xoff=100000, yoff=-50000)\n",
    "\n",
    "# 2. Get total values from selected regions\n",
    "total_kk  = centroids_gdf[centroids_gdf[\"nazev\"] == \"Karlovarský kraj\"][\"celkem\"].values[0]\n",
    "total_stc = centroids_gdf[centroids_gdf[\"nazev\"] == \"Středočeský kraj\"][\"celkem\"].values[0]\n",
    "total_prg = centroids_gdf[centroids_gdf[\"nazev\"] == \"Hlavní město Praha\"][\"celkem\"].values[0]\n",
    "\n",
    "legend_horizontal = gpd.GeoDataFrame([\n",
    "    {\"geometry\": point_left,   \"celkem\": total_kk},\n",
    "    {\"geometry\": point_middle, \"celkem\": total_stc},\n",
    "    {\"geometry\": point_right,  \"celkem\": total_prg}\n",
    "], crs=centroids_gdf.crs)\n",
    "\n",
    "# 5. Save both to a single GeoPackage\n",
    "output_path = \"legend_combined.gpkg\"\n",
    "legend_vertical.to_file(output_path, layer=\"legend_vertical\", driver=\"GPKG\")\n",
    "legend_horizontal.to_file(output_path, layer=\"legend_horizontal\", driver=\"GPKG\")\n",
    "\n",
    "legend_horizontal"
   ]
  },
  {
   "cell_type": "code",
   "execution_count": null,
   "id": "9353e829-5e88-436c-b36b-41e1adb3d9fa",
   "metadata": {},
   "outputs": [],
   "source": []
  }
 ],
 "metadata": {
  "kernelspec": {
   "display_name": "Python 3 (ipykernel)",
   "language": "python",
   "name": "python3"
  },
  "language_info": {
   "codemirror_mode": {
    "name": "ipython",
    "version": 3
   },
   "file_extension": ".py",
   "mimetype": "text/x-python",
   "name": "python",
   "nbconvert_exporter": "python",
   "pygments_lexer": "ipython3",
   "version": "3.12.10"
  }
 },
 "nbformat": 4,
 "nbformat_minor": 5
}
