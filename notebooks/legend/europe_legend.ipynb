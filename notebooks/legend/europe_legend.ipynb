{
 "cells": [
  {
   "cell_type": "code",
   "execution_count": 1,
   "id": "9cc69ab7-b218-49a9-9c5d-8da682dad898",
   "metadata": {},
   "outputs": [],
   "source": [
    "# Imports\n",
    "import numpy as np\n",
    "import geopandas as gpd\n",
    "from shapely.geometry import Point\n",
    "from shapely.geometry import LineString\n",
    "from shapely.affinity import translate"
   ]
  },
  {
   "cell_type": "code",
   "execution_count": 2,
   "id": "d7553836-16b0-4796-a84e-52ef674caf7f",
   "metadata": {},
   "outputs": [],
   "source": [
    "# Load centroid and flow data\n",
    "centroids_gdf = gpd.read_file(\"../../data/europe/europe_centriods.gpkg\")\n",
    "flows_gdf = gpd.read_file(\"../../data/europe/europe_flows.gpkg\")"
   ]
  },
  {
   "cell_type": "code",
   "execution_count": 3,
   "id": "fa579d59-aa83-45ea-a8c8-a27fd7cabb8d",
   "metadata": {},
   "outputs": [],
   "source": [
    "# Select base point for legend\n",
    "base_point = centroids_gdf[centroids_gdf[\"NAME_ENGL\"] == \"Czechia\"].geometry.values[0]"
   ]
  },
  {
   "cell_type": "code",
   "execution_count": 4,
   "id": "bb4b8eb1-ebdb-4a79-a442-20dc94e18e22",
   "metadata": {},
   "outputs": [
    {
     "name": "stdout",
     "output_type": "stream",
     "text": [
      "                          geometry  prichozi  odchozi  celkem\n",
      "0  POINT (4680695.035 2977518.749)      1001     1000    2001\n",
      "1  POINT (4680695.035 2883768.749)      1000     1001    2001\n"
     ]
    }
   ],
   "source": [
    "# Create vertical legend points\n",
    "legend_vertical = gpd.GeoDataFrame([\n",
    "    {\"geometry\": base_point, \"prichozi\": 1001, \"odchozi\": 1000, \"celkem\": 2001},\n",
    "    {\"geometry\": translate(base_point, xoff=0, yoff=-25000*3.75), \"prichozi\": 1000, \"odchozi\": 1001, \"celkem\": 2001}\n",
    "], crs=centroids_gdf.crs)\n",
    "\n",
    "print(legend_vertical)"
   ]
  },
  {
   "cell_type": "code",
   "execution_count": 5,
   "id": "4273ba7f-7632-4d73-8a58-93f97a56ad76",
   "metadata": {},
   "outputs": [
    {
     "name": "stdout",
     "output_type": "stream",
     "text": [
      "                          geometry  prichozi  odchozi  celkem\n",
      "0  POINT (4680695.035 3127518.749)         0     1000    1000\n",
      "1  POINT (4680695.035 3165018.749)      1000        0    1000\n"
     ]
    }
   ],
   "source": [
    "# Create vertical legend points\n",
    "legend_vertical2 = gpd.GeoDataFrame([\n",
    "    {\"geometry\": translate(base_point, xoff=0, yoff=40000*3.75), \"prichozi\": 0, \"odchozi\": 1000, \"celkem\": 1000},\n",
    "    {\"geometry\": translate(base_point, xoff=0, yoff=50000*3.75), \"prichozi\": 1000, \"odchozi\": 0, \"celkem\": 1000}\n",
    "], crs=centroids_gdf.crs)\n",
    "\n",
    "print(legend_vertical2)"
   ]
  },
  {
   "cell_type": "code",
   "execution_count": 6,
   "id": "e8ef6dd3-5922-4846-b8a1-7ea501accdb2",
   "metadata": {},
   "outputs": [
    {
     "name": "stdout",
     "output_type": "stream",
     "text": [
      "                          geometry  type\n",
      "0  POINT (4680695.035 3333768.749)     1\n",
      "1  POINT (4680695.035 3390018.749)     2\n",
      "2  POINT (4680695.035 3427518.749)     3\n",
      "3  POINT (4680695.035 3465018.749)     4\n",
      "4  POINT (4680695.035 3502518.749)     5\n",
      "5  POINT (4680695.035 3540018.749)     6\n"
     ]
    }
   ],
   "source": [
    "# Create vertical legend points\n",
    "legend_vertical3 = gpd.GeoDataFrame([\n",
    "    {\"geometry\": translate(base_point, xoff=0, yoff=95000*3.75), \"type\": 1},\n",
    "    {\"geometry\": translate(base_point, xoff=0, yoff=110000*3.75), \"type\": 2},\n",
    "    {\"geometry\": translate(base_point, xoff=0, yoff=120000*3.75), \"type\": 3},\n",
    "    {\"geometry\": translate(base_point, xoff=0, yoff=130000*3.75), \"type\": 4},\n",
    "    {\"geometry\": translate(base_point, xoff=0, yoff=140000*3.75), \"type\": 5},\n",
    "    {\"geometry\": translate(base_point, xoff=0, yoff=150000*3.75), \"type\": 6}\n",
    "], crs=centroids_gdf.crs)\n",
    "\n",
    "print(legend_vertical3)"
   ]
  },
  {
   "cell_type": "code",
   "execution_count": 7,
   "id": "d946b197-9456-4320-86c0-2c581dd6d870",
   "metadata": {},
   "outputs": [],
   "source": [
    "# Create horizontal legend points\n",
    "point_left   = translate(base_point, xoff=0, yoff=-50000*3.75)\n",
    "point_middle = translate(base_point, xoff=25000*3.75, yoff=-50000*3.75)\n",
    "point_right  = translate(base_point, xoff=100000*3.75, yoff=-50000*3.75)"
   ]
  },
  {
   "cell_type": "code",
   "execution_count": 8,
   "id": "7285bff2-7010-40dc-a831-0e1c52c0c6e5",
   "metadata": {},
   "outputs": [],
   "source": [
    "# Get values from selected regions\n",
    "total_kk  = centroids_gdf[centroids_gdf[\"NAME_ENGL\"] == \"Iceland\"][\"celkem\"].values[0]\n",
    "total_stc = centroids_gdf[centroids_gdf[\"NAME_ENGL\"] == \"Czechia\"][\"celkem\"].values[0]\n",
    "total_prg = centroids_gdf[centroids_gdf[\"NAME_ENGL\"] == \"Germany\"][\"celkem\"].values[0]"
   ]
  },
  {
   "cell_type": "code",
   "execution_count": 9,
   "id": "227a31c8-9eaf-41fd-94b5-67ede7d05804",
   "metadata": {},
   "outputs": [
    {
     "name": "stdout",
     "output_type": "stream",
     "text": [
      "Maximum flow value: 38178\n",
      "Minimum flow value: 0\n"
     ]
    }
   ],
   "source": [
    "# Find maximum and minimum values in flow data\n",
    "max_flow = flows_gdf[\"value\"].max()\n",
    "min_flow = flows_gdf[\"value\"].min()\n",
    "\n",
    "print(f\"Maximum flow value: {max_flow}\")\n",
    "print(f\"Minimum flow value: {min_flow}\")"
   ]
  },
  {
   "cell_type": "code",
   "execution_count": 10,
   "id": "ffe31533-5b33-4a37-8d02-e9923ac2a165",
   "metadata": {},
   "outputs": [],
   "source": [
    "# Round total_kk and total_prg to the nearest thousand\n",
    "kk_rounded = round(total_kk / 1000) * 1000\n",
    "prg_rounded = round(total_prg / 1000) * 1000"
   ]
  },
  {
   "cell_type": "code",
   "execution_count": 11,
   "id": "2c002a05-94bb-4a6f-902c-867075b0adda",
   "metadata": {},
   "outputs": [],
   "source": [
    "# Compute square roots\n",
    "sqrt_kk = np.sqrt(kk_rounded)\n",
    "sqrt_prg = np.sqrt(prg_rounded)"
   ]
  },
  {
   "cell_type": "code",
   "execution_count": 12,
   "id": "61eda299-384f-4b33-8cef-884237e88a69",
   "metadata": {},
   "outputs": [],
   "source": [
    "# Calculate the average of the square roots\n",
    "avg_sqrt = (sqrt_kk + sqrt_prg) / 2"
   ]
  },
  {
   "cell_type": "code",
   "execution_count": 13,
   "id": "318188ff-fb0b-4b54-92d7-fee76cc370e7",
   "metadata": {},
   "outputs": [],
   "source": [
    "# Square the average and round to the nearest thousand\n",
    "middle = round((avg_sqrt ** 2) / 1000) * 1000"
   ]
  },
  {
   "cell_type": "code",
   "execution_count": 14,
   "id": "5586b6af-71c4-47b0-b3f0-0185e33f051c",
   "metadata": {},
   "outputs": [
    {
     "name": "stdout",
     "output_type": "stream",
     "text": [
      "Rounded total_kk: 3000\n",
      "Rounded total_prg: 234000\n",
      "Smoothed total_stc: 72000\n"
     ]
    }
   ],
   "source": [
    "# Print for verification\n",
    "print(\"Rounded total_kk:\", kk_rounded)\n",
    "print(\"Rounded total_prg:\", prg_rounded)\n",
    "print(\"Smoothed total_stc:\", middle)"
   ]
  },
  {
   "cell_type": "code",
   "execution_count": 15,
   "id": "3481800a-e014-421b-82a0-33b73a6bf067",
   "metadata": {},
   "outputs": [
    {
     "name": "stdout",
     "output_type": "stream",
     "text": [
      "                          geometry  celkem\n",
      "0  POINT (4680695.035 2790018.749)    3000\n",
      "1  POINT (4830695.035 2825268.749)   70000\n",
      "2  POINT (5055695.035 2864268.749)  250000\n"
     ]
    }
   ],
   "source": [
    "# horizontal legend\n",
    "legend_horizontal = gpd.GeoDataFrame([\n",
    "    {\"geometry\": translate(base_point, xoff=0, yoff=-50000*3.75),   \"celkem\": kk_rounded},\n",
    "    {\"geometry\": translate(base_point, xoff=40000*3.75, yoff=-40600*3.75), \"celkem\": 70000},\n",
    "    {\"geometry\": translate(base_point, xoff=100000*3.75, yoff=-30200*3.75),  \"celkem\": 250000}\n",
    "], crs=centroids_gdf.crs)\n",
    "print(legend_horizontal)"
   ]
  },
  {
   "cell_type": "code",
   "execution_count": 16,
   "id": "4cea882a-3863-4dcd-93ea-a97d99f7a1a2",
   "metadata": {},
   "outputs": [],
   "source": [
    "# Created lines\n",
    "full_line = LineString([point_left, point_right])\n",
    "full_line_shifted = translate(full_line, xoff=0, yoff=-25000*3.75)"
   ]
  },
  {
   "cell_type": "code",
   "execution_count": 17,
   "id": "28327b78-8e59-41ef-8655-cd3d8be79e9b",
   "metadata": {},
   "outputs": [],
   "source": [
    "# Add trimmed segments\n",
    "point_middle_25 = translate(base_point, xoff=50000*3.75, yoff=-50000*3.75)\n",
    "line_50l = LineString([point_left, point_middle_25])\n",
    "line_50r = LineString([point_middle_25, point_right])\n",
    "\n",
    "point_middle_25 = translate(base_point, xoff=25000*3.75, yoff=-50000*3.75)\n",
    "line_25l = LineString([point_left, point_middle_25])\n",
    "line_25r = LineString([point_middle_25, point_right])\n",
    "\n",
    "point_middle_75 = translate(base_point, xoff=75000*3.75, yoff=-50000*3.75)\n",
    "line_75l = LineString([point_left, point_middle_75])\n",
    "line_75r = LineString([point_middle_75, point_right])"
   ]
  },
  {
   "cell_type": "code",
   "execution_count": 18,
   "id": "fbdc6ccd-98d1-41fe-8987-768911e80b08",
   "metadata": {},
   "outputs": [],
   "source": [
    "# Translate points\n",
    "line_50l = translate(line_50l, xoff=0, yoff=-25000*3.75)\n",
    "line_50r = translate(line_50r, xoff=0, yoff=-25000*3.75)\n",
    "line_25l = translate(line_25l, xoff=0, yoff=-50000*3.75)\n",
    "line_25r = translate(line_25r, xoff=0, yoff=-50000*3.75)\n",
    "line_75l = translate(line_75l, xoff=0, yoff=-75000*3.75)\n",
    "line_75r = translate(line_75r, xoff=0, yoff=-75000*3.75)"
   ]
  },
  {
   "cell_type": "code",
   "execution_count": 19,
   "id": "f642ad40-f208-4c9d-b1cc-287fff13e431",
   "metadata": {},
   "outputs": [],
   "source": [
    "# 5. Create geodatafram\n",
    "legend_lines = gpd.GeoDataFrame([\n",
    "    {\"geometry\": line_50l, \"nazev\": \"50l\", \"typ\": \"l\", \"label\": \"line_low_1\", \"celkem\": 40000},\n",
    "    {\"geometry\": line_50r, \"nazev\": \"50r\", \"typ\": \"r\", \"label\": \"line_low_1\", \"celkem\": 40000},\n",
    "    {\"geometry\": line_25l, \"nazev\": \"25l\", \"typ\": \"l\", \"label\": \"line_low_2\", \"celkem\": 5000},\n",
    "    {\"geometry\": line_25r, \"nazev\": \"25r\", \"typ\": \"r\", \"label\": \"line_low_2\", \"celkem\": 5000},\n",
    "    {\"geometry\": line_75l, \"nazev\": \"75l\", \"typ\": \"l\", \"label\": \"line_low_3\", \"celkem\": 1000},\n",
    "    {\"geometry\": line_75r, \"nazev\": \"75r\", \"typ\": \"r\", \"label\": \"line_low_3\", \"celkem\": 1000},\n",
    "], crs=legend_horizontal.crs)"
   ]
  },
  {
   "cell_type": "code",
   "execution_count": 20,
   "id": "097a8267-57ed-44d4-8a9e-83de9f42b2d8",
   "metadata": {},
   "outputs": [],
   "source": [
    "# 5. Save all to a single GeoPackage\n",
    "output_path = \"../../data/europe/europe_legend.gpkg\"\n",
    "legend_vertical.to_file(output_path, layer=\"legend_vertical\", driver=\"GPKG\")\n",
    "legend_vertical2.to_file(output_path, layer=\"legend_vertical2\", driver=\"GPKG\")\n",
    "legend_vertical3.to_file(output_path, layer=\"legend_vertical3\", driver=\"GPKG\")\n",
    "legend_horizontal.to_file(output_path, layer=\"legend_horizontal\", driver=\"GPKG\")\n",
    "legend_lines.to_file(output_path, layer=\"legend_lines\", driver=\"GPKG\")"
   ]
  }
 ],
 "metadata": {
  "kernelspec": {
   "display_name": "Python 3 (ipykernel)",
   "language": "python",
   "name": "python3"
  },
  "language_info": {
   "codemirror_mode": {
    "name": "ipython",
    "version": 3
   },
   "file_extension": ".py",
   "mimetype": "text/x-python",
   "name": "python",
   "nbconvert_exporter": "python",
   "pygments_lexer": "ipython3",
   "version": "3.12.10"
  }
 },
 "nbformat": 4,
 "nbformat_minor": 5
}
