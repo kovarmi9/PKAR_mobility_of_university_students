{
 "cells": [
  {
   "cell_type": "code",
   "execution_count": 3,
   "id": "56c7ed38-f7f4-4306-ab92-8af1c8af2f27",
   "metadata": {},
   "outputs": [
    {
     "name": "stdout",
     "output_type": "stream",
     "text": [
      "✅ Export completed to 'ortodromic_erope_gradient_segments.gpkg'\n"
     ]
    }
   ],
   "source": [
    "import geopandas as gpd\n",
    "from shapely.geometry import LineString\n",
    "import matplotlib.colors as mcolors\n",
    "import numpy as np\n",
    "import pandas as pd\n",
    "\n",
    "# 1. Load trimmed lines\n",
    "gdf = gpd.read_file(\"ortodromic_erope_trimmed.gpkg\")\n",
    "\n",
    "# 2. Color interpolation\n",
    "def interpolate_color(start_color, end_color, t):\n",
    "    start_rgb = np.array(mcolors.to_rgb(start_color))\n",
    "    end_rgb = np.array(mcolors.to_rgb(end_color))\n",
    "    interp_rgb = (1 - t) * start_rgb + t * end_rgb\n",
    "    return mcolors.to_hex(interp_rgb)\n",
    "\n",
    "# 3. Segmenting lines\n",
    "def segment_line(row, n_segments=50):\n",
    "    line = row.geometry\n",
    "    pct = row.pct\n",
    "\n",
    "    if not isinstance(line, LineString) or line.length == 0 or pd.isna(pct):\n",
    "        return []\n",
    "\n",
    "    segments = []\n",
    "    for i in range(n_segments):\n",
    "        start_frac = i / n_segments\n",
    "        end_frac = (i + 1) / n_segments\n",
    "        start_point = line.interpolate(start_frac, normalized=True)\n",
    "        end_point = line.interpolate(end_frac, normalized=True)\n",
    "        segment = LineString([start_point, end_point])\n",
    "\n",
    "        t = i / (n_segments - 1)\n",
    "        if pct >= 50:\n",
    "            color = interpolate_color(\"#e31a1c\", \"#dad18d\", t)  # red → neutral\n",
    "        else:\n",
    "            color = interpolate_color(\"#33a02c\", \"#dad18d\", t)  # green → neutral\n",
    "\n",
    "        segments.append({\n",
    "            'origin': row.get('origin'),\n",
    "            'destination': row.get('destination'),\n",
    "            'value': row.get('value'),\n",
    "            'value_total': row.get('value_total'),\n",
    "            'pct': pct,\n",
    "            'geometry': segment,\n",
    "            'color': color\n",
    "        })\n",
    "    return segments\n",
    "\n",
    "# 4. Apply segmentation\n",
    "all_segments = []\n",
    "for _, row in gdf.iterrows():\n",
    "    all_segments.extend(segment_line(row))\n",
    "\n",
    "# 5. Create GeoDataFrame\n",
    "segments_gdf = gpd.GeoDataFrame(all_segments, geometry='geometry', crs=gdf.crs)\n",
    "\n",
    "# 6. Save output\n",
    "segments_gdf.to_file(\"ortodromic_erope_gradient_segments.gpkg\", driver=\"GPKG\", layer=\"segments_with_color\")\n",
    "\n",
    "print(\"✅ Export completed to 'ortodromic_erope_gradient_segments.gpkg'\")\n"
   ]
  },
  {
   "cell_type": "code",
   "execution_count": null,
   "id": "8723c4a7-f388-47d3-a28d-ac829d86dc23",
   "metadata": {},
   "outputs": [],
   "source": []
  }
 ],
 "metadata": {
  "kernelspec": {
   "display_name": "Python 3 (ipykernel)",
   "language": "python",
   "name": "python3"
  },
  "language_info": {
   "codemirror_mode": {
    "name": "ipython",
    "version": 3
   },
   "file_extension": ".py",
   "mimetype": "text/x-python",
   "name": "python",
   "nbconvert_exporter": "python",
   "pygments_lexer": "ipython3",
   "version": "3.12.10"
  }
 },
 "nbformat": 4,
 "nbformat_minor": 5
}
