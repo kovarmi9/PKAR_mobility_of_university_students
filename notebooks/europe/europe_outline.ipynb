{
 "cells": [
  {
   "cell_type": "code",
   "execution_count": 1,
   "id": "1df92301-d3e8-43f2-9a42-435f29750e32",
   "metadata": {},
   "outputs": [],
   "source": [
    "import geopandas as gpd\n",
    "from shapely.geometry import Point"
   ]
  },
  {
   "cell_type": "code",
   "execution_count": 2,
   "id": "c09271bf-d025-4d12-ab13-50570ecba9ad",
   "metadata": {},
   "outputs": [],
   "source": [
    "# Load dataset\n",
    "gdf = gpd.read_file(\"../../data/europe/CNTR_RG_10M_2024_3035.gpkg\")"
   ]
  },
  {
   "cell_type": "code",
   "execution_count": 3,
   "id": "0dee99c2-26c6-46c4-8578-630e8cb51d72",
   "metadata": {},
   "outputs": [],
   "source": [
    "# Define European countries and microstates\n",
    "european_countries = {\n",
    "    'Albania', 'Andorra', 'Armenia', 'Austria', 'Azerbaijan', 'Belarus', 'Belgium',\n",
    "    'Bosnia and Herzegovina', 'Bulgaria', 'Croatia', 'Cyprus', 'Czechia', 'Denmark',\n",
    "    'Estonia', 'Finland', 'France', 'Georgia', 'Germany', 'Greece', 'Hungary',\n",
    "    'Iceland', 'Ireland', 'Italy', 'Kazakhstan', 'Kosovo', 'Latvia', 'Liechtenstein',\n",
    "    'Lithuania', 'Luxembourg', 'Malta', 'Moldova', 'Monaco', 'Montenegro',\n",
    "    'Netherlands', 'North Macedonia', 'Norway', 'Poland', 'Portugal', 'Romania',\n",
    "    'Russian Federation', 'San Marino', 'Serbia', 'Slovakia', 'Slovenia',\n",
    "    'Spain', 'Sweden', 'Switzerland', 'Türkiye', 'Ukraine', 'United Kingdom',\n",
    "    'Vatican City', 'Gibraltar', 'Guernsey', 'Jersey', 'Isle of Man'\n",
    "}\n",
    "microstates = {\n",
    "    'Vatican City', 'Gibraltar', 'Guernsey', 'Jersey', 'Isle of Man',\n",
    "    'San Marino', 'Monaco', 'Liechtenstein', 'Andorra', 'Malta'\n",
    "}"
   ]
  },
  {
   "cell_type": "code",
   "execution_count": 4,
   "id": "36ee18da-71a5-4c99-9e25-6561c07ba829",
   "metadata": {},
   "outputs": [],
   "source": [
    "# Keep only European countries\n",
    "gdf = gdf[gdf['NAME_ENGL'].isin(european_countries)].copy()"
   ]
  },
  {
   "cell_type": "code",
   "execution_count": 5,
   "id": "d86168ec-a631-4584-aebc-203c527f6b05",
   "metadata": {},
   "outputs": [],
   "source": [
    "# Explode multipolygons to singleparts\n",
    "gdf = gdf.explode(index_parts=False).reset_index(drop=True)"
   ]
  },
  {
   "cell_type": "code",
   "execution_count": 6,
   "id": "4c1385b0-d2d7-4f26-8627-5fbea62c5545",
   "metadata": {},
   "outputs": [],
   "source": [
    "# Remove parts west of Iceland and south of Cyprus\n",
    "# Calculate centroid coordinates in WGS84\n",
    "centroids = gdf.geometry.centroid\n",
    "centroids_wgs = gpd.GeoSeries(centroids, crs=gdf.crs).to_crs(epsg=4326)\n",
    "gdf['lon'] = centroids_wgs.x\n",
    "gdf['lat'] = centroids_wgs.y\n",
    "\n",
    "# Filter parts: keep only east of -25° longitude and north of 33° latitude\n",
    "gdf = gdf[(gdf['lon'] > -25) & (gdf['lat'] > 33)].drop(columns=['lon', 'lat'])"
   ]
  },
  {
   "cell_type": "code",
   "execution_count": 7,
   "id": "0f55500a-48f1-4e6f-8d14-0ee3157b19fc",
   "metadata": {},
   "outputs": [],
   "source": [
    "# Reproject to projected CRS and compute area\n",
    "gdf = gdf.to_crs(epsg=3035)\n",
    "gdf['area'] = gdf.geometry.area\n",
    "\n",
    "# Determine minimum area (Liechtenstein)\n",
    "liechtenstein_area = gdf[gdf['NAME_ENGL'] == 'Liechtenstein']['area'].max()"
   ]
  },
  {
   "cell_type": "code",
   "execution_count": 8,
   "id": "cbfac565-1ff5-432d-8f6c-5bbfd8f702ba",
   "metadata": {},
   "outputs": [],
   "source": [
    "# Keep large parts or microstates\n",
    "gdf = gdf[(gdf['area'] > liechtenstein_area) | (gdf['NAME_ENGL'].isin(microstates))].copy()"
   ]
  },
  {
   "cell_type": "code",
   "execution_count": 9,
   "id": "229ecf15-ac18-4036-a605-5e556ed0b910",
   "metadata": {},
   "outputs": [],
   "source": [
    "# Drop temporary area column\n",
    "gdf = gdf.drop(columns='area')"
   ]
  },
  {
   "cell_type": "code",
   "execution_count": 10,
   "id": "425011b8-5cdd-4829-8611-dd5fdd895550",
   "metadata": {},
   "outputs": [],
   "source": [
    "# Merge parts back into multipolygons\n",
    "gdf = gdf.dissolve(by='NAME_ENGL', as_index=False)"
   ]
  },
  {
   "cell_type": "code",
   "execution_count": 11,
   "id": "a5618144-3e9e-46b3-98d5-5cf875d4f396",
   "metadata": {},
   "outputs": [],
   "source": [
    "# Save cleaned outline\n",
    "gdf.to_file(\"../../data/europe/countries.gpkg\", driver=\"GPKG\")"
   ]
  },
  {
   "cell_type": "code",
   "execution_count": 12,
   "id": "8c4d3610-d696-4854-a39d-4155b9a97888",
   "metadata": {},
   "outputs": [
    {
     "name": "stdout",
     "output_type": "stream",
     "text": [
      "Countries: 54\n",
      "List: ['Albania', 'Andorra', 'Armenia', 'Austria', 'Azerbaijan', 'Belarus', 'Belgium', 'Bosnia and Herzegovina', 'Bulgaria', 'Croatia', 'Cyprus', 'Czechia', 'Denmark', 'Estonia', 'Finland', 'France', 'Georgia', 'Germany', 'Gibraltar', 'Greece', 'Guernsey', 'Hungary', 'Iceland', 'Ireland', 'Isle of Man', 'Italy', 'Jersey', 'Kazakhstan', 'Latvia', 'Liechtenstein', 'Lithuania', 'Luxembourg', 'Malta', 'Moldova', 'Monaco', 'Montenegro', 'Netherlands', 'North Macedonia', 'Norway', 'Poland', 'Portugal', 'Romania', 'Russian Federation', 'San Marino', 'Serbia', 'Slovakia', 'Slovenia', 'Spain', 'Sweden', 'Switzerland', 'Türkiye', 'Ukraine', 'United Kingdom', 'Vatican City']\n"
     ]
    }
   ],
   "source": [
    "# Final report\n",
    "print(\"Countries:\", len(gdf))\n",
    "print(\"List:\", sorted(gdf['NAME_ENGL'].unique()))"
   ]
  }
 ],
 "metadata": {
  "kernelspec": {
   "display_name": "Python 3 (ipykernel)",
   "language": "python",
   "name": "python3"
  },
  "language_info": {
   "codemirror_mode": {
    "name": "ipython",
    "version": 3
   },
   "file_extension": ".py",
   "mimetype": "text/x-python",
   "name": "python",
   "nbconvert_exporter": "python",
   "pygments_lexer": "ipython3",
   "version": "3.12.10"
  }
 },
 "nbformat": 4,
 "nbformat_minor": 5
}
