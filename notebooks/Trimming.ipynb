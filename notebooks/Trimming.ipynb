{
 "cells": [
  {
   "cell_type": "code",
   "execution_count": 3,
   "id": "0bd59ec9-2a3c-4972-b76d-921f2d8d6669",
   "metadata": {},
   "outputs": [],
   "source": [
    "import geopandas as gpd\n",
    "from shapely.geometry import LineString\n",
    "\n",
    "# Load the original line layer with 'pct' attribute\n",
    "gdf = gpd.read_file(\"czech_linie.gpkg\")\n",
    "\n",
    "# Function to trim line according to the percentage from origin to destination\n",
    "def trim_line_by_pct(row):\n",
    "    line = row.geometry\n",
    "    pct = row.pct\n",
    "\n",
    "    if not isinstance(line, LineString) or pct is None:\n",
    "        return line\n",
    "\n",
    "    if pct >= 100:\n",
    "        return line\n",
    "\n",
    "    target_length = line.length * (pct / 100)\n",
    "    trimmed_coords = []\n",
    "    current_length = 0\n",
    "\n",
    "    for i in range(len(line.coords) - 1):\n",
    "        start = line.coords[i]\n",
    "        end = line.coords[i + 1]\n",
    "        segment = LineString([start, end])\n",
    "        seg_length = segment.length\n",
    "\n",
    "        if current_length + seg_length < target_length:\n",
    "            trimmed_coords.append(start)\n",
    "            current_length += seg_length\n",
    "        else:\n",
    "            remaining = target_length - current_length\n",
    "            if remaining > 0:\n",
    "                point = segment.interpolate(remaining)\n",
    "                trimmed_coords.append(start)\n",
    "                trimmed_coords.append((point.x, point.y))\n",
    "            break\n",
    "\n",
    "    if len(trimmed_coords) < 2:\n",
    "        return LineString([line.coords[0], line.interpolate(target_length)])\n",
    "\n",
    "    return LineString(trimmed_coords)\n",
    "\n",
    "# Apply the trimming function\n",
    "gdf[\"geometry\"] = gdf.apply(trim_line_by_pct, axis=1)\n",
    "\n",
    "# Export the result to a new GeoPackage\n",
    "output_path = \"czech_linie_trimmed.gpkg\"\n",
    "gdf.to_file(output_path, driver=\"GPKG\", layer=\"trimmed_lines\")\n"
   ]
  },
  {
   "cell_type": "code",
   "execution_count": null,
   "id": "ac21b72e-9c85-4d49-a526-fe6fd3cc2d3a",
   "metadata": {},
   "outputs": [],
   "source": []
  }
 ],
 "metadata": {
  "kernelspec": {
   "display_name": "Python 3 (ipykernel)",
   "language": "python",
   "name": "python3"
  },
  "language_info": {
   "codemirror_mode": {
    "name": "ipython",
    "version": 3
   },
   "file_extension": ".py",
   "mimetype": "text/x-python",
   "name": "python",
   "nbconvert_exporter": "python",
   "pygments_lexer": "ipython3",
   "version": "3.12.10"
  }
 },
 "nbformat": 4,
 "nbformat_minor": 5
}
